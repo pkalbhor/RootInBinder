{
 "cells": [
  {
   "cell_type": "markdown",
   "id": "0ca41a87",
   "metadata": {},
   "source": [
    "### Generating models for the fitter"
   ]
  },
  {
   "cell_type": "code",
   "execution_count": null,
   "id": "1f17ae0e",
   "metadata": {},
   "outputs": [],
   "source": [
    "import ROOT"
   ]
  },
  {
   "cell_type": "code",
   "execution_count": null,
   "id": "af4405cc",
   "metadata": {},
   "outputs": [],
   "source": [
    "Bmass       = ROOT.RooRealVar(\"Bmass\",\"m_{#phi#mu#mu} [GeV]\", 4.5, 6.0)\n",
    "CosThetaK   = ROOT.RooRealVar(\"CosThetaK\", \"cos#theta_{K}\", -1., 1.)\n",
    "CosThetaL   = ROOT.RooRealVar(\"CosThetaL\", \"cos#theta_{l}\", -1., 1.)"
   ]
  },
  {
   "cell_type": "code",
   "execution_count": null,
   "id": "be0ddf51",
   "metadata": {},
   "outputs": [],
   "source": [
    "wspace = ROOT.RooWorkspace('wspace')"
   ]
  },
  {
   "cell_type": "code",
   "execution_count": null,
   "id": "fc97c680",
   "metadata": {},
   "outputs": [],
   "source": [
    "# Legendre's Polynomials\n",
    "xTerm = \"(x0+x1*CosThetaK+x2*(1.5*pow(CosThetaK,2)-0.5)+x3*(2.5*pow(CosThetaK,3)-1.5*CosThetaK)+x4*(4.375*pow(CosThetaK, 4)-3.75*pow(CosThetaK, 2)+0.375))\\\n",
    "+(x5+x6*CosThetaK+x7*(1.5*pow(CosThetaK,2)-0.5)+x8*(2.5*pow(CosThetaK,3)-1.5*CosThetaK)+x9*(4.375*pow(CosThetaK, 4)-3.75*pow(CosThetaK, 2)+0.375))*CosThetaL\\\n",
    "+(x10+x11*CosThetaK+x12*(1.5*pow(CosThetaK,2)-0.5)+x13*(2.5*pow(CosThetaK,3)-1.5*CosThetaK)+x14*(4.375*pow(CosThetaK, 4)-3.75*pow(CosThetaK, 2)+0.375))*pow(CosThetaL,2)\\\n",
    "+(x15+x16*CosThetaK+x17*(1.5*pow(CosThetaK,2)-0.5)+x18*(2.5*pow(CosThetaK,3)-1.5*CosThetaK)+x19*(4.375*pow(CosThetaK, 4)-3.75*pow(CosThetaK, 2)+0.375))*pow(CosThetaL,3)\\\n",
    "+(x20+x21*CosThetaK+x22*(1.5*pow(CosThetaK,2)-0.5)+x23*(2.5*pow(CosThetaK,3)-1.5*CosThetaK)+x24*(4.375*pow(CosThetaK, 4)-3.75*pow(CosThetaK, 2)+0.375))*pow(CosThetaL,4)\""
   ]
  },
  {
   "cell_type": "code",
   "execution_count": null,
   "id": "86bc7a14",
   "metadata": {},
   "outputs": [],
   "source": [
    "# Building efficiency PDF\n",
    "\n",
    "eff = [f\"l{i}[-10,10]\" for i in range(1, 8)]\n",
    "eff += [f\"k{i}[-10,10]\" for i in range(1, 7)]\n",
    "eff += [\"RooPolynomial::effi_cosl(CosThetaL, {l1, l2, l3, l4, l5, l6, l7})\"]\n",
    "eff += [\"RooPolynomial::effi_cosK(CosThetaK, {k1, k2, k3, k4, k5, k6})\"]\n",
    "eff += [\"hasXTerm[0]\"]\n",
    "eff += [\"expr::effi_xTerm('1+hasXTerm*({xTerm})',{args})\"\n",
    "        .format(\n",
    "        xTerm=xTerm,\n",
    "        args=\"{CosThetaL,CosThetaK,hasXTerm,\" + ','.join([\"x{0}[-30,30]\".format(i) for i in range(25)]) + \"}\"\n",
    "        )\n",
    "       ]\n",
    "eff += [\"prod::effi_sigA(effi_norm[0.5,0,1], effi_cosl, effi_cosK, effi_xTerm)\"]"
   ]
  },
  {
   "cell_type": "code",
   "execution_count": null,
   "id": "0a5e7cc7",
   "metadata": {},
   "outputs": [],
   "source": [
    "wspace.Import(Bmass)\n",
    "wspace.Import(CosThetaK)\n",
    "wspace.Import(CosThetaL)\n",
    "for obj in eff: wspace.factory(obj)"
   ]
  },
  {
   "cell_type": "code",
   "execution_count": null,
   "id": "dfa9cc2b",
   "metadata": {},
   "outputs": [],
   "source": [
    "# Lets import model built for B -. sll process\n",
    "ROOT.gInterpreter.ProcessLine('#include \"../cpp/RooBtosllModel.cpp\"')"
   ]
  },
  {
   "cell_type": "code",
   "execution_count": null,
   "id": "1a38a654",
   "metadata": {},
   "outputs": [],
   "source": [
    "# import cpp\n",
    "# wspace.addClassImplImportDir('./')\n",
    "for obj in [\"unboundFl[0.6978,-3e3,3e3]\", \"unboundAfb[0.00,-3e4,3e4]\"]: wspace.factory(obj)\n",
    "f_sigA = ROOT.RooBtosllModel(\"f_sigA\", \"\", CosThetaL, CosThetaK, wspace.var('unboundAfb'), wspace.var('unboundFl'))\n",
    "wspace.Import(f_sigA)\n",
    "# wspace.importClassCode(ROOT.RooBtosllModel.Class(), True)"
   ]
  },
  {
   "cell_type": "code",
   "execution_count": null,
   "id": "4782bb59",
   "metadata": {
    "scrolled": true
   },
   "outputs": [],
   "source": [
    "# Model for Bmass PDF\n",
    "\n",
    "mass_pdf =  [\"RooJohnson::f_sigM1(Bmass, sigM_mu[5.31, 5.25, 5.45], sigM_lambda1[0.96, 1e-6, 1], sigM_gamma1[-6.03, -10, 10], sigM_delta1[1.30, 1e-6, 10])\"]\n",
    "mass_pdf += [\"RooJohnson::f_sigM2(Bmass, sigM_mu, sigM_lambda2[0.36, 1e-6, 1], sigM_gamma2[-0.75, -10, 10], sigM_delta2[9.27, 1e-6, 10])\"]\n",
    "mass_pdf += [\"SUM::f_sigM(sigM_frac[0.00517, 0.,1.]*f_sigM1, f_sigM2)\"]\n",
    "\n",
    "for obj in mass_pdf: wspace.factory(obj)"
   ]
  },
  {
   "cell_type": "code",
   "execution_count": null,
   "id": "32297cde",
   "metadata": {},
   "outputs": [],
   "source": [
    "# Model 3D Component of Signal PDF\n",
    "\n",
    "wspace.factory(\"RooEffProd::f_sig2D(f_sigA, effi_sigA)\")\n",
    "# effi_sigA = wspace.var('effi_sigA')\n",
    "# f_sig2D  = ROOT.RooEffProd(\"f_sig2D\", \"\", locals()['f_sigA'], locals()['effi_sigA'])\n",
    "# wspace.Import(f_sig2D)\n",
    "wspace.factory(\"PROD::f_sig3D(f_sigM, f_sig2D)\")\n",
    "# print(a)\n",
    "# wspace.Print()"
   ]
  },
  {
   "cell_type": "markdown",
   "id": "60e9ba05",
   "metadata": {},
   "source": [
    "#### Saving workspace containing PDFs to the file"
   ]
  },
  {
   "cell_type": "code",
   "execution_count": null,
   "id": "96d247df",
   "metadata": {},
   "outputs": [],
   "source": [
    "#Saving workspace to the file\n",
    "# out_file = ROOT.TFile('signal_models.root', 'recreate')\n",
    "# out_file.WriteObject(wspace, 'wspace')\n",
    "# out_file.Close()"
   ]
  },
  {
   "cell_type": "code",
   "execution_count": null,
   "id": "0ceda1e7",
   "metadata": {},
   "outputs": [],
   "source": [
    "# wfile = ROOT.TFile('signal_models.root')\n",
    "# newspace = wfile.Get('wspace')\n",
    "# for i in newspace.allPdfs(): print(i)"
   ]
  },
  {
   "cell_type": "code",
   "execution_count": null,
   "id": "f8f62464",
   "metadata": {},
   "outputs": [],
   "source": [
    "wspace.Print()"
   ]
  },
  {
   "cell_type": "markdown",
   "id": "7201322c",
   "metadata": {},
   "source": [
    "### Efficiency fit"
   ]
  },
  {
   "cell_type": "code",
   "execution_count": null,
   "id": "cbafaf61",
   "metadata": {},
   "outputs": [],
   "source": [
    "import os\n",
    "file_path = '../files'\n",
    "eff_file_name = os.path.join(file_path, 'accXrecEffHists_2016_bin3.root')\n",
    "eff_file = ROOT.TFile(eff_file_name)"
   ]
  },
  {
   "cell_type": "code",
   "execution_count": null,
   "id": "208e4e3a",
   "metadata": {},
   "outputs": [],
   "source": [
    "dataX = eff_file.Get('h_accXrec_betweenPeaks_ProjectionX')\n",
    "dataY = eff_file.Get('h_accXrec_betweenPeaks_ProjectionY')"
   ]
  },
  {
   "cell_type": "code",
   "execution_count": null,
   "id": "a833b61b",
   "metadata": {},
   "outputs": [],
   "source": [
    "data_hist = eff_file.Get('h2_accXrec_betweenPeaks')\n",
    "data = ROOT.RooDataHist(\"accXrec\", \"\", ROOT.RooArgList(CosThetaL, CosThetaK), ROOT.RooFit.Import(data_hist))"
   ]
  },
  {
   "cell_type": "code",
   "execution_count": null,
   "id": "e6fd2ce8",
   "metadata": {},
   "outputs": [],
   "source": [
    "pdf = wspace.function('effi_sigA')\n",
    "pdfX = wspace.function('effi_cosl')\n",
    "pdfY = wspace.function('effi_cosK')"
   ]
  },
  {
   "cell_type": "code",
   "execution_count": null,
   "id": "f47a0a79",
   "metadata": {},
   "outputs": [],
   "source": [
    "args = pdf.getParameters(data)"
   ]
  },
  {
   "cell_type": "code",
   "execution_count": null,
   "id": "c782461d",
   "metadata": {},
   "outputs": [],
   "source": [
    "for arg in args: arg.setConstant(True)"
   ]
  },
  {
   "cell_type": "code",
   "execution_count": null,
   "id": "b26dab15",
   "metadata": {},
   "outputs": [],
   "source": [
    "args.find('hasXTerm').setVal(0)"
   ]
  },
  {
   "cell_type": "code",
   "execution_count": null,
   "id": "355daa26",
   "metadata": {
    "scrolled": true
   },
   "outputs": [],
   "source": [
    "import re\n",
    "for proj, pdf_proj, var, pattern in [(dataX, pdfX, CosThetaL, r\"^l\\d+\\w*\"), (dataY, pdfY, CosThetaK, r\"^k\\d+\\w*\")]:\n",
    "    hdata = ROOT.RooDataHist(\"hdata\", \"\", ROOT.RooArgList(var), ROOT.RooFit.Import(proj))\n",
    "    \n",
    "    # Freeze all parameters parameters except those matching 'pattern'\n",
    "    for arg in args: \n",
    "        arg.setConstant(False if re.match(pattern, arg.GetName()) else True)\n",
    "\n",
    "    print(pdf)\n",
    "    result = pdf_proj.fitTo(hdata, ROOT.RooFit.Save())\n",
    "    result.Print(\"v\")\n",
    "                           "
   ]
  },
  {
   "cell_type": "markdown",
   "id": "c8ea60f1",
   "metadata": {},
   "source": [
    "#### Fix normalization term"
   ]
  },
  {
   "cell_type": "code",
   "execution_count": null,
   "id": "8ee78d40",
   "metadata": {
    "scrolled": true
   },
   "outputs": [],
   "source": [
    "for arg in args: arg.setConstant(True)\n",
    "args.find('effi_norm').setConstant(False)\n",
    "result = pdf.chi2FitTo(data, \n",
    "                       ROOT.RooFit.Minos(True), \n",
    "                       ROOT.RooFit.Save(), \n",
    "                       ROOT.RooFit.Strategy(2), \n",
    "                       ROOT.RooFit.PrintLevel(1))"
   ]
  },
  {
   "cell_type": "markdown",
   "id": "ed1b5fe4",
   "metadata": {},
   "source": [
    "### Do fitting for Cross-Term"
   ]
  },
  {
   "cell_type": "code",
   "execution_count": null,
   "id": "4090a2e0",
   "metadata": {},
   "outputs": [],
   "source": [
    "# Activate cross term\n",
    "args.find('hasXTerm').setVal(1)\n",
    "# Set cross-term parameters to floating\n",
    "for arg in args: arg.setConstant(False if re.match(r\"^x\\d+\\w*\", arg.GetName()) else True)\n",
    "# for i in args: print(i, i.isConstant()) if i.isConstant() else print('')"
   ]
  },
  {
   "cell_type": "code",
   "execution_count": null,
   "id": "278f5311",
   "metadata": {},
   "outputs": [],
   "source": [
    "new_result = pdf.chi2FitTo(data, \n",
    "                           ROOT.RooFit.Strategy(2), \n",
    "                           ROOT.RooFit.Save(1), \n",
    "                           ROOT.RooFit.PrintLevel(-1))"
   ]
  },
  {
   "cell_type": "markdown",
   "id": "0103817b",
   "metadata": {},
   "source": [
    "### Plotting efficiency distributions after fit"
   ]
  },
  {
   "cell_type": "code",
   "execution_count": null,
   "id": "544cfd32",
   "metadata": {},
   "outputs": [],
   "source": [
    "import itertools\n",
    "canvas = ROOT.TCanvas()\n",
    "latex = ROOT.TLatex()\n",
    "effi_2d = data_hist.Clone(\"effi_2d\")\n",
    "effi_2d.Reset(\"ICESM\")\n",
    "pdfhist = data_hist.Clone(\"pdfhist\")\n",
    "pdfhist.Reset(\"ICESM\")\n",
    "pdf.fillHistogram(pdfhist, ROOT.RooArgList(CosThetaL,CosThetaK))\n",
    "\n",
    "for lBin, KBin in itertools.product(list(range(1, effi_2d.GetNbinsX() + 1)), list(range(1, effi_2d.GetNbinsY() + 1))):\n",
    "    if data_hist.GetBinContent(lBin, KBin)==0:                                                                                \n",
    "        effi_2d.SetBinContent(lBin, KBin, 0)                                                                           \n",
    "        print (\">> ** Warning ** Empty bins: (l, k)\", lBin, KBin)                                                              \n",
    "    else:            \n",
    "        ratio = pdfhist.GetBinContent(lBin, KBin) / data_hist.GetBinContent(lBin, KBin)\n",
    "        effi_2d.SetBinContent(lBin, KBin, ratio)\n",
    "        \n",
    "effi_2d.Draw(\"LEGO2\")    \n",
    "canvas.Draw()"
   ]
  },
  {
   "cell_type": "markdown",
   "id": "896f2b60",
   "metadata": {},
   "source": [
    "#### Chi Square / NDF"
   ]
  },
  {
   "cell_type": "code",
   "execution_count": null,
   "id": "2de1c4ec",
   "metadata": {},
   "outputs": [],
   "source": [
    "chi2ndf = new_result.minNll() / (\n",
    "    data_hist.GetNbinsX()*data_hist.GetNbinsY() - \\\n",
    "    pdf.getParameters(data).selectByAttrib(\"Constant\",0).getSize()\n",
    ")\n",
    "print(\"Chi-Square per NDF: \", chi2ndf)"
   ]
  },
  {
   "cell_type": "code",
   "execution_count": null,
   "id": "5f1aaf97",
   "metadata": {},
   "outputs": [],
   "source": [
    "# cosK_hist = pdf.createHistogram(\"cosK_hist\", CosThetaL, \n",
    "# ROOT.RooFit.Binning(40), \n",
    "# ROOT.RooFit.YVar(CosThetaK, ROOT.RooFit.Binning(40)))\n",
    "\n",
    "# c2 = ROOT.TCanvas()\n",
    "# dataL = ROOT.RooDataHist(\"RooHist_for_cosL\", \"\", \n",
    "#                  ROOT.RooArgList(CosThetaL), \n",
    "#                  ROOT.RooFit.Import(dataX))\n",
    "# print(type(dataL))\n",
    "# frameL = CosThetaL.frame()\n",
    "# dataL.plotOn(frameL, ROOT.RooFit.Rescale(100))\n",
    "# c2.Draw()\n",
    "# dataL.Print()"
   ]
  },
  {
   "cell_type": "code",
   "execution_count": null,
   "id": "0228d9f9",
   "metadata": {},
   "outputs": [],
   "source": []
  },
  {
   "cell_type": "code",
   "execution_count": null,
   "id": "f1b29836-ba9a-4cd4-9084-1c0df1b3ef7c",
   "metadata": {},
   "outputs": [],
   "source": []
  }
 ],
 "metadata": {
  "kernelspec": {
   "display_name": "Python 3 (ipykernel)",
   "language": "python",
   "name": "python3"
  },
  "language_info": {
   "codemirror_mode": {
    "name": "ipython",
    "version": 3
   },
   "file_extension": ".py",
   "mimetype": "text/x-python",
   "name": "python",
   "nbconvert_exporter": "python",
   "pygments_lexer": "ipython3",
   "version": "3.9.13"
  }
 },
 "nbformat": 4,
 "nbformat_minor": 5
}
