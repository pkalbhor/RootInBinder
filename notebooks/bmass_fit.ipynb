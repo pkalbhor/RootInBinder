{
 "cells": [
  {
   "cell_type": "markdown",
   "id": "1de8c79f",
   "metadata": {},
   "source": [
    "### Opening a ROOT file"
   ]
  },
  {
   "cell_type": "markdown",
   "id": "bd3d887c",
   "metadata": {},
   "source": [
    "#### Data sample"
   ]
  },
  {
   "cell_type": "code",
   "execution_count": null,
   "id": "53f0fc1f",
   "metadata": {},
   "outputs": [],
   "source": [
    "import ROOT\n",
    "import os\n",
    "files_path = '../files/'\n",
    "file_name = os.path.join(files_path, 'preload_dataReader_2016_bin3.root')\n",
    "data_file = ROOT.TFile(file_name)"
   ]
  },
  {
   "cell_type": "markdown",
   "id": "fc6ad363",
   "metadata": {},
   "source": [
    "#### Signal sample"
   ]
  },
  {
   "cell_type": "code",
   "execution_count": null,
   "id": "ba245261",
   "metadata": {},
   "outputs": [],
   "source": [
    "sig_file_name = os.path.join(files_path, 'preload_sigMCReader_2016_bin3.root')\n",
    "sig_file = ROOT.TFile(sig_file_name)"
   ]
  },
  {
   "cell_type": "markdown",
   "id": "89879455",
   "metadata": {},
   "source": [
    "#### Inspect content of a file and fetch RooDataSet from the file"
   ]
  },
  {
   "cell_type": "code",
   "execution_count": null,
   "id": "bda5b536",
   "metadata": {},
   "outputs": [],
   "source": [
    "# Look at the content of the file using file.ls()\n",
    "data = data_file.Get('dataReader.2016.Fit')\n",
    "sig_data = sig_file.Get('sigMCReader.2016.Fit')"
   ]
  },
  {
   "cell_type": "markdown",
   "id": "0c0929ae",
   "metadata": {
    "cell_style": "center"
   },
   "source": [
    "### Fit signal sample\n",
    "#### Modelling"
   ]
  },
  {
   "cell_type": "code",
   "execution_count": null,
   "id": "5e5bc164",
   "metadata": {},
   "outputs": [],
   "source": [
    "Bmass = ROOT.RooRealVar(\"Bmass\", \"B Mass\", 5.37, 5.2, 5.6)\n",
    "mean  = ROOT.RooRealVar(\"mean\", \"Mean\", 5.37, 5.3, 5.4)\n",
    "width = ROOT.RooRealVar(\"width\", \"Width\", 0.03, 0.001, 1)\n",
    "sig_model = ROOT.RooGaussian(\"sig_model\", \"Signal Shape\", Bmass, mean, width)"
   ]
  },
  {
   "cell_type": "markdown",
   "id": "8dede44f",
   "metadata": {},
   "source": [
    "#### See how initial configuration of the model looks like"
   ]
  },
  {
   "cell_type": "code",
   "execution_count": null,
   "id": "f6462e5b",
   "metadata": {},
   "outputs": [],
   "source": [
    "sig_frame = Bmass.frame()\n",
    "sig_data.plotOn(sig_frame)\n",
    "sig_model.plotOn(sig_frame)\n",
    "sig_frame.Draw()\n",
    "ROOT.gPad.Draw()"
   ]
  },
  {
   "cell_type": "markdown",
   "id": "b1d54173",
   "metadata": {},
   "source": [
    "#### Fit and again plot "
   ]
  },
  {
   "cell_type": "code",
   "execution_count": null,
   "id": "518adfdf",
   "metadata": {
    "tags": []
   },
   "outputs": [],
   "source": [
    "result = sig_model.fitTo(sig_data, ROOT.RooFit.Save(), ROOT.RooFit.PrintLevel(0))"
   ]
  },
  {
   "cell_type": "code",
   "execution_count": null,
   "id": "6401370b",
   "metadata": {},
   "outputs": [],
   "source": [
    "sig_frame = Bmass.frame()\n",
    "sig_data.plotOn(sig_frame)\n",
    "sig_model.plotOn(sig_frame)\n",
    "sig_frame.Draw()\n",
    "ROOT.gPad.Draw()"
   ]
  },
  {
   "cell_type": "markdown",
   "id": "e7defe9c",
   "metadata": {},
   "source": [
    "#### Single Gaussian model did NOT work, try double Gaussian "
   ]
  },
  {
   "cell_type": "code",
   "execution_count": null,
   "id": "84bafdc0",
   "metadata": {},
   "outputs": [],
   "source": [
    "# Defining double Guassian model with common mean\n",
    "width1 = ROOT.RooRealVar(\"width1\", \"Width 1\", 0.03, 0.001, 1)\n",
    "width2 = ROOT.RooRealVar(\"width2\", \"Width 2\", 0.034, 0.001, 1)\n",
    "sig_model1 = ROOT.RooGaussian(\"sig_model1\", \"Signal Shape1\", Bmass, mean, width1)\n",
    "sig_model2 = ROOT.RooGaussian(\"sig_model2\", \"Signal Shape2\", Bmass, mean, width2)\n",
    "frac = ROOT.RooRealVar(\"frac\", \"frac\", 0, 1)\n",
    "pdfList = ROOT.RooArgList(sig_model1, sig_model2)\n",
    "coefList = ROOT.RooArgList(frac)\n",
    "\n",
    "dg_model = ROOT.RooAddPdf(\"dg_model\", \"Double Gausian Model\", pdfList, coefList)"
   ]
  },
  {
   "cell_type": "code",
   "execution_count": null,
   "id": "c9f6f9d7",
   "metadata": {},
   "outputs": [],
   "source": [
    "dg_model.fitTo(sig_data)"
   ]
  },
  {
   "cell_type": "code",
   "execution_count": null,
   "id": "7b7d0c48",
   "metadata": {},
   "outputs": [],
   "source": [
    "c1 = ROOT.TCanvas()\n",
    "sig_frame = Bmass.frame()\n",
    "sig_data.plotOn(sig_frame)\n",
    "dg_model.plotOn(sig_frame)\n",
    "sig_frame.Draw()\n",
    "c1.Draw()"
   ]
  },
  {
   "cell_type": "markdown",
   "id": "fb1bd8f2",
   "metadata": {},
   "source": [
    "#### Double Guassian shape looks better though it is not perfect. See goodness of the fit by plotting residual/Pull distribution"
   ]
  },
  {
   "cell_type": "markdown",
   "id": "329c9eb5",
   "metadata": {},
   "source": [
    "## Residuals and Pull Plots"
   ]
  },
  {
   "cell_type": "code",
   "execution_count": null,
   "id": "ce09678c",
   "metadata": {},
   "outputs": [],
   "source": [
    "res_sig_frame = sig_frame.emptyClone(\"frame_for_residue_of_signal\")\n",
    "pullHist = sig_frame.pullHist(sig_frame.getObject(0).GetName(), sig_frame.getObject(1).GetName())\n",
    "res_sig_frame.addPlotable(pullHist, \"P\")\n",
    "res_sig_frame.Draw()\n",
    "c1.Draw()"
   ]
  },
  {
   "cell_type": "markdown",
   "id": "9f846a5b",
   "metadata": {},
   "source": [
    "#### You could try out different C++ modules in python. Here is the one to place residue plot below the original fit"
   ]
  },
  {
   "cell_type": "code",
   "execution_count": null,
   "id": "b04680b2",
   "metadata": {},
   "outputs": [],
   "source": [
    "#Import C++ code. Can be executed only once unlike python import statements\n",
    "ROOT.gInterpreter.ProcessLine('#include \"../cpp/ResiduePlotter.cpp\"')"
   ]
  },
  {
   "cell_type": "code",
   "execution_count": null,
   "id": "7dc8b3f4",
   "metadata": {},
   "outputs": [],
   "source": [
    "c1 = ROOT.TCanvas() # Declare Canvas\n",
    "residue = ROOT.CustomRatioPlot('RooPlot')(sig_frame, res_sig_frame)\n",
    "residue.Draw() # Draws all frames and TPads\n",
    "c1.Draw()"
   ]
  },
  {
   "cell_type": "markdown",
   "id": "c2043af5",
   "metadata": {},
   "source": [
    "#### Use shape of a signal from simulation to reduce number of free parameters"
   ]
  },
  {
   "cell_type": "code",
   "execution_count": null,
   "id": "be097487",
   "metadata": {},
   "outputs": [],
   "source": [
    "# Fix parameters of signal PDF\n",
    "width1.setConstant()\n",
    "width2.setConstant()\n",
    "mean.setConstant()\n",
    "\n",
    "# Exponential function of a background \n",
    "slope = ROOT.RooRealVar('slope', 'Exp Slope', -5.1, -20, 1)\n",
    "expo = ROOT.RooExponential(\"exp\", \"exp pdf title\", Bmass, slope)\n",
    "\n",
    "# Format final extended PDF\n",
    "nSig = ROOT.RooRealVar('nSig', 'nSig', 230, 0, 300)\n",
    "nBkgComb = ROOT.RooRealVar('nBkgComb', 'nBkgComb', 85, 0, 200)\n",
    "f_finalM = ROOT.RooAddPdf(\"f_finalM\", \"Final Mass PDF\", ROOT.RooArgList(expo, dg_model), ROOT.RooArgList(nBkgComb, nSig))"
   ]
  },
  {
   "cell_type": "code",
   "execution_count": null,
   "id": "30340910",
   "metadata": {},
   "outputs": [],
   "source": [
    "# perform a fit and plot\n",
    "fit_result = f_finalM.fitTo(data, ROOT.RooFit.Save())\n",
    "\n",
    "c1 = ROOT.TCanvas()\n",
    "frame = Bmass.frame()\n",
    "data.plotOn(frame)\n",
    "f_finalM.plotOn(frame)\n",
    "f_finalM.plotOn(frame, ROOT.RooFit.Components('exp'), ROOT.RooFit.LineColor(2))\n",
    "f_finalM.plotOn(frame, ROOT.RooFit.Components('dg_model'), ROOT.RooFit.LineColor(9))\n",
    "\n",
    "frame2 = frame.emptyClone(\"frame_for_residue_of_final_pdf\")\n",
    "pullHist = frame.pullHist(frame.getObject(0).GetName(), frame.getObject(1).GetName())\n",
    "frame2.addPlotable(pullHist, \"P\")\n",
    "residue = ROOT.CustomRatioPlot('RooPlot')(frame, frame2)\n",
    "residue.Draw()\n",
    "c1.Draw()"
   ]
  },
  {
   "cell_type": "markdown",
   "id": "7a4cf23a",
   "metadata": {},
   "source": [
    "### Save the PDFs for further use"
   ]
  },
  {
   "cell_type": "code",
   "execution_count": null,
   "id": "9c7707f2",
   "metadata": {},
   "outputs": [],
   "source": [
    "wspace = ROOT.RooWorkspace('wspace')\n",
    "wspace.Import(f_finalM)\n",
    "out_file = ROOT.TFile('data_fit_bmass.root', 'recreate')\n",
    "out_file.WriteObject(wspace, 'wspace')\n",
    "out_file.Close()"
   ]
  },
  {
   "cell_type": "code",
   "execution_count": null,
   "id": "8b4b89ca",
   "metadata": {},
   "outputs": [],
   "source": [
    "wfile = ROOT.TFile('data_fit_bmass.root')\n",
    "newspace = wfile.Get('wspace')\n",
    "for i in newspace.allPdfs(): print(i)"
   ]
  },
  {
   "cell_type": "code",
   "execution_count": null,
   "id": "d95e794b-90b0-4af2-bb40-b259c8def8b7",
   "metadata": {},
   "outputs": [],
   "source": []
  }
 ],
 "metadata": {
  "kernelspec": {
   "display_name": "Python 3 (ipykernel)",
   "language": "python",
   "name": "python3"
  },
  "language_info": {
   "codemirror_mode": {
    "name": "ipython",
    "version": 3
   },
   "file_extension": ".py",
   "mimetype": "text/x-python",
   "name": "python",
   "nbconvert_exporter": "python",
   "pygments_lexer": "ipython3",
   "version": "3.9.13"
  }
 },
 "nbformat": 4,
 "nbformat_minor": 5
}
