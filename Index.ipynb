{
 "cells": [
  {
   "cell_type": "code",
   "execution_count": null,
   "id": "42f36333-dd82-4d98-929a-6e01326c74bb",
   "metadata": {},
   "outputs": [],
   "source": [
    "import ROOT"
   ]
  },
  {
   "cell_type": "code",
   "execution_count": null,
   "id": "2c53ae4a-15bb-4da8-a6d9-ad5c40974721",
   "metadata": {},
   "outputs": [],
   "source": [
    "wspace = ROOT.RooWorkspace(\"name\")\n",
    "\n",
    "from ROOT import RooRealVar\n",
    "treco       = RooRealVar(\"treco\", \"Decay time\", 0.0, 10., \"ps\")\n",
    "trecoe      = RooRealVar(\"trecoe\", \"Decay time error\", 0.01, 0.2, \"ps\")\n",
    "\n",
    "wspace.Import(trecoe)\n",
    "mylist = [\n",
    "        \"RooJohnson::f_sigE1(trecoe, sigE_mu1[0.04, .0001, 0.2], sigE1_lambda[0.006, 1e-6, 1], sigE1_gamma[-7, -10, 10], sigE1_delta[3., 1e-6, 10])\",\n",
    "        \"RooJohnson::f_sigE2(trecoe, sigE_mu2[0.05, .0001, 0.2], sigE2_lambda[0.02, 1e-6, 1], sigE2_gamma[-1.4, -10, 10], sigE2_delta[2.1, 1e-6, 10])\",\n",
    "        \"SUM::f_sigE(frac_sigE[0.07, 0, 1]*f_sigE1, f_sigE2)\"\n",
    "]\n",
    "for pdf in mylist:\n",
    "    wspace.factory(pdf)\n",
    "\n",
    "pdf = wspace.obj(\"f_sigE\")\n",
    "pdf2 = wspace.obj(\"f_sigE2\")\n",
    "c = ROOT.TCanvas()\n",
    "frame = trecoe.frame()\n",
    "pdf.plotOn(frame)\n",
    "pdf.plotOn(frame, ROOT.RooFit.Components(\"f_sigE2\"), ROOT.RooFit.LineColor(2))\n",
    "frame.Draw()\n",
    "\n",
    "c.Draw()"
   ]
  },
  {
   "cell_type": "markdown",
   "id": "53c47ef0-f107-4da5-946d-9483bf4e9d40",
   "metadata": {
    "tags": []
   },
   "source": [
    "A"
   ]
  },
  {
   "cell_type": "code",
   "execution_count": null,
   "id": "6e4da875-a4d7-4cef-8f0b-c05c08ca6ca7",
   "metadata": {},
   "outputs": [],
   "source": [
    "tfile = ROOT.TFile('BsMC_2016.root')\n",
    "tree = tfile.Get('tree')\n",
    "\n",
    "%jsroot on\n",
    "from ROOT import RooRealVar\n",
    "treco       = RooRealVar(\"treco\", \"Decay time\", 0.0, 10., \"ps\")\n",
    "trecoe      = RooRealVar(\"trecoe\", \"Decay time error\", 0.01, 0.2, \"ps\")\n",
    "Bmass       = RooRealVar(\"Bmass\",\"m_{J/#psi K_{S}^{0}}\", 5.1, 5.6, \"GeV\")       \n",
    "Bdt         = RooRealVar(\"Bdt\", \"Bdt\", 0.05, 1.)                                \n",
    "is_truebs   = RooRealVar(\"is_truebs\", \"is_truebs\", 0, 1)                        \n",
    "Puw8        = RooRealVar(\"Puw8\", \"Pile up weight\", 0, 5)                        \n",
    "                                                                                \n",
    "ArgSet = ROOT.RooArgSet(Bmass, treco, trecoe, Bdt, is_truebs, Puw8)\n",
    "\n",
    "RooCut = ROOT.RooFit.Cut(\"Bdt > 0.64 && is_truebs==1\")                          \n",
    "Weight = ROOT.RooFit.WeightVar(\"Puw8\")                                          \n",
    "sigData = ROOT.RooDataSet(\"sigDataset\", \"Weighted dataset\", ArgSet, ROOT.RooFit.Import(tree), RooCut, Weight)"
   ]
  },
  {
   "cell_type": "code",
   "execution_count": null,
   "id": "226ebf59-202c-4287-99f0-59d79606eb36",
   "metadata": {},
   "outputs": [],
   "source": [
    "wspace = ROOT.RooWorkspace(\"name2\")\n",
    "\n",
    "wspace.Import(trecoe)\n",
    "mylist = [\n",
    "        \"RooGamma::f_sigE1(trecoe,gamma1[11.0,0.1,17],beta1[0.006,0.003,0.009],mu1[0.00019])\",\n",
    "        \"RooGamma::f_sigE2(trecoe,gamma2[15.0,13,17],beta2[0.0044, 0.003,0.005],mu1)\",\n",
    "        \"SUM::f_sigE(frac_sigE[0.4, 0, 1]*f_sigE1, f_sigE2)\",\n",
    "]\n",
    "for pdf in mylist:\n",
    "    wspace.factory(pdf)\n",
    "\n",
    "pdf = wspace.obj(\"f_sigE\")\n",
    "pdf2 = wspace.obj(\"f_sigE2\")\n",
    "c = ROOT.TCanvas()\n",
    "frame = trecoe.frame(50)\n",
    "ROOT.gPad.SetLogy()\n",
    "sigData.plotOn(frame)\n",
    "pdf.plotOn(frame, ROOT.RooFit.Normalization(sigData.sumEntries(), ROOT.RooAbsReal.NumEvent))\n",
    "pdf.plotOn(frame, ROOT.RooFit.Components(\"f_sigE1\"), ROOT.RooFit.LineColor(6), ROOT.RooFit.Normalization(22050, ROOT.RooAbsReal.NumEvent))\n",
    "pdf.plotOn(frame, ROOT.RooFit.Components(\"f_sigE2\"), ROOT.RooFit.LineColor(ROOT.kRed), ROOT.RooFit.Normalization(22050, ROOT.RooAbsReal.NumEvent))\n",
    "frame.Draw(); c.Draw()\n",
    "frame2 = frame.emptyClone(\"newframe\")\n",
    "pull = frame.pullHist(frame.getObject(0).GetName(), frame.getObject(1).GetName()) #residHist() #Get Pull\n",
    "frame2.addPlotable(pull, \"P\")\n",
    "c2 = ROOT.TCanvas()\n",
    "frame2.Draw()\n",
    "c2.Draw()\n",
    "pdf.Print()"
   ]
  },
  {
   "cell_type": "code",
   "execution_count": 1,
   "id": "9531742e-8fa9-4f52-bf85-b30d3d6bcf77",
   "metadata": {},
   "outputs": [],
   "source": [
    "import IPython"
   ]
  },
  {
   "cell_type": "code",
   "execution_count": null,
   "id": "7be51869-fba5-4441-95db-6f4547d7b3a2",
   "metadata": {},
   "outputs": [],
   "source": []
  }
 ],
 "metadata": {
  "kernelspec": {
   "display_name": "Python 3 (ipykernel)",
   "language": "python",
   "name": "python3"
  },
  "language_info": {
   "codemirror_mode": {
    "name": "ipython",
    "version": 3
   },
   "file_extension": ".py",
   "mimetype": "text/x-python",
   "name": "python",
   "nbconvert_exporter": "python",
   "pygments_lexer": "ipython3",
   "version": "3.9.5"
  }
 },
 "nbformat": 4,
 "nbformat_minor": 5
}
